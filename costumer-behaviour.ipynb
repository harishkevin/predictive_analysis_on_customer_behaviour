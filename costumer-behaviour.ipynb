{
 "cells": [
  {
   "cell_type": "code",
   "execution_count": 1,
   "id": "a19a2f10",
   "metadata": {
    "_cell_guid": "b1076dfc-b9ad-4769-8c92-a6c4dae69d19",
    "_uuid": "8f2839f25d086af736a60e9eeb907d3b93b6e0e5",
    "execution": {
     "iopub.execute_input": "2022-06-08T10:30:33.822151Z",
     "iopub.status.busy": "2022-06-08T10:30:33.821679Z",
     "iopub.status.idle": "2022-06-08T10:30:33.838088Z",
     "shell.execute_reply": "2022-06-08T10:30:33.837234Z"
    },
    "papermill": {
     "duration": 0.024453,
     "end_time": "2022-06-08T10:30:33.840248",
     "exception": false,
     "start_time": "2022-06-08T10:30:33.815795",
     "status": "completed"
    },
    "tags": []
   },
   "outputs": [
    {
     "name": "stdout",
     "output_type": "stream",
     "text": [
      "/kaggle/input/customer-behaviour/Customer_Behaviour.csv\n"
     ]
    }
   ],
   "source": [
    "# This Python 3 environment comes with many helpful analytics libraries installed\n",
    "# It is defined by the kaggle/python Docker image: https://github.com/kaggle/docker-python\n",
    "# For example, here's several helpful packages to load\n",
    "\n",
    "import numpy as np # linear algebra\n",
    "import pandas as pd # data processing, CSV file I/O (e.g. pd.read_csv)\n",
    "\n",
    "# Input data files are available in the read-only \"../input/\" directory\n",
    "# For example, running this (by clicking run or pressing Shift+Enter) will list all files under the input directory\n",
    "\n",
    "import os\n",
    "for dirname, _, filenames in os.walk('/kaggle/input'):\n",
    "    for filename in filenames:\n",
    "        print(os.path.join(dirname, filename))\n",
    "\n",
    "# You can write up to 20GB to the current directory (/kaggle/working/) that gets preserved as output when you create a version using \"Save & Run All\" \n",
    "# You can also write temporary files to /kaggle/temp/, but they won't be saved outside of the current session"
   ]
  },
  {
   "cell_type": "code",
   "execution_count": 2,
   "id": "ccb253a3",
   "metadata": {
    "execution": {
     "iopub.execute_input": "2022-06-08T10:30:33.851468Z",
     "iopub.status.busy": "2022-06-08T10:30:33.851059Z",
     "iopub.status.idle": "2022-06-08T10:30:35.067679Z",
     "shell.execute_reply": "2022-06-08T10:30:35.066638Z"
    },
    "papermill": {
     "duration": 1.22395,
     "end_time": "2022-06-08T10:30:35.069968",
     "exception": false,
     "start_time": "2022-06-08T10:30:33.846018",
     "status": "completed"
    },
    "tags": []
   },
   "outputs": [],
   "source": [
    "# import libraries\n",
    "\n",
    "import pandas as pd\n",
    "import numpy as np \n",
    "\n",
    "from sklearn.model_selection import train_test_split\n",
    "from sklearn.preprocessing import StandardScaler\n",
    "\n",
    "from sklearn.linear_model import LogisticRegression"
   ]
  },
  {
   "cell_type": "code",
   "execution_count": 3,
   "id": "b6ceca09",
   "metadata": {
    "execution": {
     "iopub.execute_input": "2022-06-08T10:30:35.078682Z",
     "iopub.status.busy": "2022-06-08T10:30:35.077605Z",
     "iopub.status.idle": "2022-06-08T10:30:35.094023Z",
     "shell.execute_reply": "2022-06-08T10:30:35.093249Z"
    },
    "papermill": {
     "duration": 0.022955,
     "end_time": "2022-06-08T10:30:35.096259",
     "exception": false,
     "start_time": "2022-06-08T10:30:35.073304",
     "status": "completed"
    },
    "tags": []
   },
   "outputs": [],
   "source": [
    "data = pd.read_csv('../input/customer-behaviour/Customer_Behaviour.csv')"
   ]
  },
  {
   "cell_type": "code",
   "execution_count": 4,
   "id": "8d000bea",
   "metadata": {
    "execution": {
     "iopub.execute_input": "2022-06-08T10:30:35.104761Z",
     "iopub.status.busy": "2022-06-08T10:30:35.104090Z",
     "iopub.status.idle": "2022-06-08T10:30:35.127052Z",
     "shell.execute_reply": "2022-06-08T10:30:35.126388Z"
    },
    "papermill": {
     "duration": 0.029248,
     "end_time": "2022-06-08T10:30:35.128936",
     "exception": false,
     "start_time": "2022-06-08T10:30:35.099688",
     "status": "completed"
    },
    "tags": []
   },
   "outputs": [
    {
     "data": {
      "text/html": [
       "<div>\n",
       "<style scoped>\n",
       "    .dataframe tbody tr th:only-of-type {\n",
       "        vertical-align: middle;\n",
       "    }\n",
       "\n",
       "    .dataframe tbody tr th {\n",
       "        vertical-align: top;\n",
       "    }\n",
       "\n",
       "    .dataframe thead th {\n",
       "        text-align: right;\n",
       "    }\n",
       "</style>\n",
       "<table border=\"1\" class=\"dataframe\">\n",
       "  <thead>\n",
       "    <tr style=\"text-align: right;\">\n",
       "      <th></th>\n",
       "      <th>User ID</th>\n",
       "      <th>Gender</th>\n",
       "      <th>Age</th>\n",
       "      <th>EstimatedSalary</th>\n",
       "      <th>Purchased</th>\n",
       "    </tr>\n",
       "  </thead>\n",
       "  <tbody>\n",
       "    <tr>\n",
       "      <th>0</th>\n",
       "      <td>15624510</td>\n",
       "      <td>Male</td>\n",
       "      <td>19</td>\n",
       "      <td>19000</td>\n",
       "      <td>0</td>\n",
       "    </tr>\n",
       "    <tr>\n",
       "      <th>1</th>\n",
       "      <td>15810944</td>\n",
       "      <td>Male</td>\n",
       "      <td>35</td>\n",
       "      <td>20000</td>\n",
       "      <td>0</td>\n",
       "    </tr>\n",
       "    <tr>\n",
       "      <th>2</th>\n",
       "      <td>15668575</td>\n",
       "      <td>Female</td>\n",
       "      <td>26</td>\n",
       "      <td>43000</td>\n",
       "      <td>0</td>\n",
       "    </tr>\n",
       "    <tr>\n",
       "      <th>3</th>\n",
       "      <td>15603246</td>\n",
       "      <td>Female</td>\n",
       "      <td>27</td>\n",
       "      <td>57000</td>\n",
       "      <td>0</td>\n",
       "    </tr>\n",
       "    <tr>\n",
       "      <th>4</th>\n",
       "      <td>15804002</td>\n",
       "      <td>Male</td>\n",
       "      <td>19</td>\n",
       "      <td>76000</td>\n",
       "      <td>0</td>\n",
       "    </tr>\n",
       "    <tr>\n",
       "      <th>...</th>\n",
       "      <td>...</td>\n",
       "      <td>...</td>\n",
       "      <td>...</td>\n",
       "      <td>...</td>\n",
       "      <td>...</td>\n",
       "    </tr>\n",
       "    <tr>\n",
       "      <th>395</th>\n",
       "      <td>15691863</td>\n",
       "      <td>Female</td>\n",
       "      <td>46</td>\n",
       "      <td>41000</td>\n",
       "      <td>1</td>\n",
       "    </tr>\n",
       "    <tr>\n",
       "      <th>396</th>\n",
       "      <td>15706071</td>\n",
       "      <td>Male</td>\n",
       "      <td>51</td>\n",
       "      <td>23000</td>\n",
       "      <td>1</td>\n",
       "    </tr>\n",
       "    <tr>\n",
       "      <th>397</th>\n",
       "      <td>15654296</td>\n",
       "      <td>Female</td>\n",
       "      <td>50</td>\n",
       "      <td>20000</td>\n",
       "      <td>1</td>\n",
       "    </tr>\n",
       "    <tr>\n",
       "      <th>398</th>\n",
       "      <td>15755018</td>\n",
       "      <td>Male</td>\n",
       "      <td>36</td>\n",
       "      <td>33000</td>\n",
       "      <td>0</td>\n",
       "    </tr>\n",
       "    <tr>\n",
       "      <th>399</th>\n",
       "      <td>15594041</td>\n",
       "      <td>Female</td>\n",
       "      <td>49</td>\n",
       "      <td>36000</td>\n",
       "      <td>1</td>\n",
       "    </tr>\n",
       "  </tbody>\n",
       "</table>\n",
       "<p>400 rows × 5 columns</p>\n",
       "</div>"
      ],
      "text/plain": [
       "      User ID  Gender  Age  EstimatedSalary  Purchased\n",
       "0    15624510    Male   19            19000          0\n",
       "1    15810944    Male   35            20000          0\n",
       "2    15668575  Female   26            43000          0\n",
       "3    15603246  Female   27            57000          0\n",
       "4    15804002    Male   19            76000          0\n",
       "..        ...     ...  ...              ...        ...\n",
       "395  15691863  Female   46            41000          1\n",
       "396  15706071    Male   51            23000          1\n",
       "397  15654296  Female   50            20000          1\n",
       "398  15755018    Male   36            33000          0\n",
       "399  15594041  Female   49            36000          1\n",
       "\n",
       "[400 rows x 5 columns]"
      ]
     },
     "execution_count": 4,
     "metadata": {},
     "output_type": "execute_result"
    }
   ],
   "source": [
    "data"
   ]
  },
  {
   "cell_type": "markdown",
   "id": "16ae3e21",
   "metadata": {
    "papermill": {
     "duration": 0.003197,
     "end_time": "2022-06-08T10:30:35.135612",
     "exception": false,
     "start_time": "2022-06-08T10:30:35.132415",
     "status": "completed"
    },
    "tags": []
   },
   "source": [
    "# Preprocessing"
   ]
  },
  {
   "cell_type": "code",
   "execution_count": 5,
   "id": "af0c32d7",
   "metadata": {
    "execution": {
     "iopub.execute_input": "2022-06-08T10:30:35.144206Z",
     "iopub.status.busy": "2022-06-08T10:30:35.143679Z",
     "iopub.status.idle": "2022-06-08T10:30:35.153173Z",
     "shell.execute_reply": "2022-06-08T10:30:35.152322Z"
    },
    "papermill": {
     "duration": 0.016123,
     "end_time": "2022-06-08T10:30:35.155125",
     "exception": false,
     "start_time": "2022-06-08T10:30:35.139002",
     "status": "completed"
    },
    "tags": []
   },
   "outputs": [],
   "source": [
    "def preprocessing(df, engineering_feature=False):\n",
    "    \n",
    "    df = df.copy()\n",
    "    \n",
    "    #Drop userID column\n",
    "    df = df.drop('User ID', axis=1)\n",
    "    \n",
    "    #binary encoding\n",
    "    df['Gender'] = df['Gender'].replace({'Female': 0, 'Male': 1})\n",
    "    \n",
    "    #Feature engineering\n",
    "    if engineering_feature==True:\n",
    "        income_threshold = df['EstimatedSalary'].quantile(0.95)\n",
    "        df['High_income'] = df['EstimatedSalary'].apply(lambda x: 1 if x >= income_threshold else 0)\n",
    "        \n",
    "        old_age_threshold = df['Age'].quantile(0.75)\n",
    "        df['Old Age'] = df['Age'].apply(lambda x: 1 if x >= old_age_threshold else 0)\n",
    "        young_age_threshold = df['Age'].quantile(0.25)\n",
    "        df['Young Age'] = df['Age'].apply(lambda x: 1 if x >= young_age_threshold else 0)\n",
    "    \n",
    "    \n",
    "    #split df into x and y\n",
    "    y = df['Purchased']\n",
    "    X = df.drop('Purchased', axis=1)\n",
    "    \n",
    "    # train-test split\n",
    "    X_train, X_test, y_train, y_test = train_test_split(X, y, train_size=0.7, shuffle=True, random_state=1)\n",
    "    \n",
    "    #scale X\n",
    "    scaler = StandardScaler()\n",
    "    scaler.fit(X_train)\n",
    "    X_train = pd.DataFrame(scaler.transform(X_train), index=X_train.index, columns=X_train.columns)\n",
    "    X_test = pd.DataFrame(scaler.transform(X_test), index=X_test.index, columns=X_test.columns)\n",
    "    \n",
    "    return X_train, X_test, y_train, y_test"
   ]
  },
  {
   "cell_type": "markdown",
   "id": "d01d024c",
   "metadata": {
    "papermill": {
     "duration": 0.003143,
     "end_time": "2022-06-08T10:30:35.161720",
     "exception": false,
     "start_time": "2022-06-08T10:30:35.158577",
     "status": "completed"
    },
    "tags": []
   },
   "source": [
    "# Training without feature engineering"
   ]
  },
  {
   "cell_type": "code",
   "execution_count": 6,
   "id": "3520d73d",
   "metadata": {
    "execution": {
     "iopub.execute_input": "2022-06-08T10:30:35.170366Z",
     "iopub.status.busy": "2022-06-08T10:30:35.169729Z",
     "iopub.status.idle": "2022-06-08T10:30:35.187079Z",
     "shell.execute_reply": "2022-06-08T10:30:35.186358Z"
    },
    "papermill": {
     "duration": 0.02391,
     "end_time": "2022-06-08T10:30:35.188998",
     "exception": false,
     "start_time": "2022-06-08T10:30:35.165088",
     "status": "completed"
    },
    "tags": []
   },
   "outputs": [],
   "source": [
    "X_train, X_test, y_train, y_test = preprocessing(data, engineering_feature=False)"
   ]
  },
  {
   "cell_type": "code",
   "execution_count": 7,
   "id": "c169bb91",
   "metadata": {
    "execution": {
     "iopub.execute_input": "2022-06-08T10:30:35.197661Z",
     "iopub.status.busy": "2022-06-08T10:30:35.196907Z",
     "iopub.status.idle": "2022-06-08T10:30:35.208043Z",
     "shell.execute_reply": "2022-06-08T10:30:35.207368Z"
    },
    "papermill": {
     "duration": 0.01722,
     "end_time": "2022-06-08T10:30:35.209728",
     "exception": false,
     "start_time": "2022-06-08T10:30:35.192508",
     "status": "completed"
    },
    "tags": []
   },
   "outputs": [
    {
     "data": {
      "text/html": [
       "<div>\n",
       "<style scoped>\n",
       "    .dataframe tbody tr th:only-of-type {\n",
       "        vertical-align: middle;\n",
       "    }\n",
       "\n",
       "    .dataframe tbody tr th {\n",
       "        vertical-align: top;\n",
       "    }\n",
       "\n",
       "    .dataframe thead th {\n",
       "        text-align: right;\n",
       "    }\n",
       "</style>\n",
       "<table border=\"1\" class=\"dataframe\">\n",
       "  <thead>\n",
       "    <tr style=\"text-align: right;\">\n",
       "      <th></th>\n",
       "      <th>Gender</th>\n",
       "      <th>Age</th>\n",
       "      <th>EstimatedSalary</th>\n",
       "    </tr>\n",
       "  </thead>\n",
       "  <tbody>\n",
       "    <tr>\n",
       "      <th>39</th>\n",
       "      <td>-0.992882</td>\n",
       "      <td>-0.979100</td>\n",
       "      <td>-1.110590</td>\n",
       "    </tr>\n",
       "    <tr>\n",
       "      <th>167</th>\n",
       "      <td>-0.992882</td>\n",
       "      <td>-0.203575</td>\n",
       "      <td>0.056697</td>\n",
       "    </tr>\n",
       "    <tr>\n",
       "      <th>383</th>\n",
       "      <td>1.007169</td>\n",
       "      <td>1.153594</td>\n",
       "      <td>-1.198137</td>\n",
       "    </tr>\n",
       "    <tr>\n",
       "      <th>221</th>\n",
       "      <td>1.007169</td>\n",
       "      <td>-0.203575</td>\n",
       "      <td>0.640340</td>\n",
       "    </tr>\n",
       "    <tr>\n",
       "      <th>351</th>\n",
       "      <td>1.007169</td>\n",
       "      <td>-0.009694</td>\n",
       "      <td>0.173426</td>\n",
       "    </tr>\n",
       "    <tr>\n",
       "      <th>...</th>\n",
       "      <td>...</td>\n",
       "      <td>...</td>\n",
       "      <td>...</td>\n",
       "    </tr>\n",
       "    <tr>\n",
       "      <th>255</th>\n",
       "      <td>-0.992882</td>\n",
       "      <td>1.444415</td>\n",
       "      <td>0.611158</td>\n",
       "    </tr>\n",
       "    <tr>\n",
       "      <th>72</th>\n",
       "      <td>-0.992882</td>\n",
       "      <td>-1.657685</td>\n",
       "      <td>-1.344048</td>\n",
       "    </tr>\n",
       "    <tr>\n",
       "      <th>396</th>\n",
       "      <td>1.007169</td>\n",
       "      <td>1.347475</td>\n",
       "      <td>-1.344048</td>\n",
       "    </tr>\n",
       "    <tr>\n",
       "      <th>235</th>\n",
       "      <td>1.007169</td>\n",
       "      <td>0.862772</td>\n",
       "      <td>0.290154</td>\n",
       "    </tr>\n",
       "    <tr>\n",
       "      <th>37</th>\n",
       "      <td>1.007169</td>\n",
       "      <td>-0.688279</td>\n",
       "      <td>-0.585311</td>\n",
       "    </tr>\n",
       "  </tbody>\n",
       "</table>\n",
       "<p>280 rows × 3 columns</p>\n",
       "</div>"
      ],
      "text/plain": [
       "       Gender       Age  EstimatedSalary\n",
       "39  -0.992882 -0.979100        -1.110590\n",
       "167 -0.992882 -0.203575         0.056697\n",
       "383  1.007169  1.153594        -1.198137\n",
       "221  1.007169 -0.203575         0.640340\n",
       "351  1.007169 -0.009694         0.173426\n",
       "..        ...       ...              ...\n",
       "255 -0.992882  1.444415         0.611158\n",
       "72  -0.992882 -1.657685        -1.344048\n",
       "396  1.007169  1.347475        -1.344048\n",
       "235  1.007169  0.862772         0.290154\n",
       "37   1.007169 -0.688279        -0.585311\n",
       "\n",
       "[280 rows x 3 columns]"
      ]
     },
     "execution_count": 7,
     "metadata": {},
     "output_type": "execute_result"
    }
   ],
   "source": [
    "X_train"
   ]
  },
  {
   "cell_type": "code",
   "execution_count": 8,
   "id": "7d169da1",
   "metadata": {
    "execution": {
     "iopub.execute_input": "2022-06-08T10:30:35.218599Z",
     "iopub.status.busy": "2022-06-08T10:30:35.217863Z",
     "iopub.status.idle": "2022-06-08T10:30:35.235230Z",
     "shell.execute_reply": "2022-06-08T10:30:35.234298Z"
    },
    "papermill": {
     "duration": 0.023783,
     "end_time": "2022-06-08T10:30:35.237203",
     "exception": false,
     "start_time": "2022-06-08T10:30:35.213420",
     "status": "completed"
    },
    "tags": []
   },
   "outputs": [
    {
     "name": "stdout",
     "output_type": "stream",
     "text": [
      "Test accuracy: 80.83333333333333\n"
     ]
    }
   ],
   "source": [
    "model = LogisticRegression()\n",
    "model.fit(X_train, y_train)\n",
    "\n",
    "acc = model.score(X_test, y_test)\n",
    "\n",
    "print(f'Test accuracy: {acc * 100}')\n"
   ]
  },
  {
   "cell_type": "markdown",
   "id": "85bfa4b4",
   "metadata": {
    "papermill": {
     "duration": 0.003499,
     "end_time": "2022-06-08T10:30:35.244442",
     "exception": false,
     "start_time": "2022-06-08T10:30:35.240943",
     "status": "completed"
    },
    "tags": []
   },
   "source": [
    "# Training with Feature engineering"
   ]
  },
  {
   "cell_type": "code",
   "execution_count": 9,
   "id": "b05ebe4e",
   "metadata": {
    "execution": {
     "iopub.execute_input": "2022-06-08T10:30:35.253379Z",
     "iopub.status.busy": "2022-06-08T10:30:35.252691Z",
     "iopub.status.idle": "2022-06-08T10:30:35.281958Z",
     "shell.execute_reply": "2022-06-08T10:30:35.281036Z"
    },
    "papermill": {
     "duration": 0.035955,
     "end_time": "2022-06-08T10:30:35.283981",
     "exception": false,
     "start_time": "2022-06-08T10:30:35.248026",
     "status": "completed"
    },
    "tags": []
   },
   "outputs": [
    {
     "data": {
      "text/html": [
       "<div>\n",
       "<style scoped>\n",
       "    .dataframe tbody tr th:only-of-type {\n",
       "        vertical-align: middle;\n",
       "    }\n",
       "\n",
       "    .dataframe tbody tr th {\n",
       "        vertical-align: top;\n",
       "    }\n",
       "\n",
       "    .dataframe thead th {\n",
       "        text-align: right;\n",
       "    }\n",
       "</style>\n",
       "<table border=\"1\" class=\"dataframe\">\n",
       "  <thead>\n",
       "    <tr style=\"text-align: right;\">\n",
       "      <th></th>\n",
       "      <th>Gender</th>\n",
       "      <th>Age</th>\n",
       "      <th>EstimatedSalary</th>\n",
       "      <th>High_income</th>\n",
       "      <th>Old Age</th>\n",
       "      <th>Young Age</th>\n",
       "    </tr>\n",
       "  </thead>\n",
       "  <tbody>\n",
       "    <tr>\n",
       "      <th>39</th>\n",
       "      <td>-0.992882</td>\n",
       "      <td>-0.979100</td>\n",
       "      <td>-1.110590</td>\n",
       "      <td>-0.246183</td>\n",
       "      <td>-0.555348</td>\n",
       "      <td>-1.653280</td>\n",
       "    </tr>\n",
       "    <tr>\n",
       "      <th>167</th>\n",
       "      <td>-0.992882</td>\n",
       "      <td>-0.203575</td>\n",
       "      <td>0.056697</td>\n",
       "      <td>-0.246183</td>\n",
       "      <td>-0.555348</td>\n",
       "      <td>0.604858</td>\n",
       "    </tr>\n",
       "    <tr>\n",
       "      <th>383</th>\n",
       "      <td>1.007169</td>\n",
       "      <td>1.153594</td>\n",
       "      <td>-1.198137</td>\n",
       "      <td>-0.246183</td>\n",
       "      <td>1.800673</td>\n",
       "      <td>0.604858</td>\n",
       "    </tr>\n",
       "    <tr>\n",
       "      <th>221</th>\n",
       "      <td>1.007169</td>\n",
       "      <td>-0.203575</td>\n",
       "      <td>0.640340</td>\n",
       "      <td>-0.246183</td>\n",
       "      <td>-0.555348</td>\n",
       "      <td>0.604858</td>\n",
       "    </tr>\n",
       "    <tr>\n",
       "      <th>351</th>\n",
       "      <td>1.007169</td>\n",
       "      <td>-0.009694</td>\n",
       "      <td>0.173426</td>\n",
       "      <td>-0.246183</td>\n",
       "      <td>-0.555348</td>\n",
       "      <td>0.604858</td>\n",
       "    </tr>\n",
       "    <tr>\n",
       "      <th>...</th>\n",
       "      <td>...</td>\n",
       "      <td>...</td>\n",
       "      <td>...</td>\n",
       "      <td>...</td>\n",
       "      <td>...</td>\n",
       "      <td>...</td>\n",
       "    </tr>\n",
       "    <tr>\n",
       "      <th>255</th>\n",
       "      <td>-0.992882</td>\n",
       "      <td>1.444415</td>\n",
       "      <td>0.611158</td>\n",
       "      <td>-0.246183</td>\n",
       "      <td>1.800673</td>\n",
       "      <td>0.604858</td>\n",
       "    </tr>\n",
       "    <tr>\n",
       "      <th>72</th>\n",
       "      <td>-0.992882</td>\n",
       "      <td>-1.657685</td>\n",
       "      <td>-1.344048</td>\n",
       "      <td>-0.246183</td>\n",
       "      <td>-0.555348</td>\n",
       "      <td>-1.653280</td>\n",
       "    </tr>\n",
       "    <tr>\n",
       "      <th>396</th>\n",
       "      <td>1.007169</td>\n",
       "      <td>1.347475</td>\n",
       "      <td>-1.344048</td>\n",
       "      <td>-0.246183</td>\n",
       "      <td>1.800673</td>\n",
       "      <td>0.604858</td>\n",
       "    </tr>\n",
       "    <tr>\n",
       "      <th>235</th>\n",
       "      <td>1.007169</td>\n",
       "      <td>0.862772</td>\n",
       "      <td>0.290154</td>\n",
       "      <td>-0.246183</td>\n",
       "      <td>1.800673</td>\n",
       "      <td>0.604858</td>\n",
       "    </tr>\n",
       "    <tr>\n",
       "      <th>37</th>\n",
       "      <td>1.007169</td>\n",
       "      <td>-0.688279</td>\n",
       "      <td>-0.585311</td>\n",
       "      <td>-0.246183</td>\n",
       "      <td>-0.555348</td>\n",
       "      <td>0.604858</td>\n",
       "    </tr>\n",
       "  </tbody>\n",
       "</table>\n",
       "<p>280 rows × 6 columns</p>\n",
       "</div>"
      ],
      "text/plain": [
       "       Gender       Age  EstimatedSalary  High_income   Old Age  Young Age\n",
       "39  -0.992882 -0.979100        -1.110590    -0.246183 -0.555348  -1.653280\n",
       "167 -0.992882 -0.203575         0.056697    -0.246183 -0.555348   0.604858\n",
       "383  1.007169  1.153594        -1.198137    -0.246183  1.800673   0.604858\n",
       "221  1.007169 -0.203575         0.640340    -0.246183 -0.555348   0.604858\n",
       "351  1.007169 -0.009694         0.173426    -0.246183 -0.555348   0.604858\n",
       "..        ...       ...              ...          ...       ...        ...\n",
       "255 -0.992882  1.444415         0.611158    -0.246183  1.800673   0.604858\n",
       "72  -0.992882 -1.657685        -1.344048    -0.246183 -0.555348  -1.653280\n",
       "396  1.007169  1.347475        -1.344048    -0.246183  1.800673   0.604858\n",
       "235  1.007169  0.862772         0.290154    -0.246183  1.800673   0.604858\n",
       "37   1.007169 -0.688279        -0.585311    -0.246183 -0.555348   0.604858\n",
       "\n",
       "[280 rows x 6 columns]"
      ]
     },
     "execution_count": 9,
     "metadata": {},
     "output_type": "execute_result"
    }
   ],
   "source": [
    "X_train, X_test, y_train, y_test = preprocessing(data, engineering_feature=True)\n",
    "X_train"
   ]
  },
  {
   "cell_type": "code",
   "execution_count": 10,
   "id": "d1c287a2",
   "metadata": {
    "execution": {
     "iopub.execute_input": "2022-06-08T10:30:35.293374Z",
     "iopub.status.busy": "2022-06-08T10:30:35.292978Z",
     "iopub.status.idle": "2022-06-08T10:30:35.306641Z",
     "shell.execute_reply": "2022-06-08T10:30:35.305434Z"
    },
    "papermill": {
     "duration": 0.021216,
     "end_time": "2022-06-08T10:30:35.309178",
     "exception": false,
     "start_time": "2022-06-08T10:30:35.287962",
     "status": "completed"
    },
    "tags": []
   },
   "outputs": [
    {
     "name": "stdout",
     "output_type": "stream",
     "text": [
      "Test accuracy: 85.0\n"
     ]
    }
   ],
   "source": [
    "model = LogisticRegression()\n",
    "model.fit(X_train, y_train)\n",
    "\n",
    "acc = model.score(X_test, y_test)\n",
    "\n",
    "print(f'Test accuracy: {acc * 100}')"
   ]
  }
 ],
 "metadata": {
  "kernelspec": {
   "display_name": "Python 3",
   "language": "python",
   "name": "python3"
  },
  "language_info": {
   "codemirror_mode": {
    "name": "ipython",
    "version": 3
   },
   "file_extension": ".py",
   "mimetype": "text/x-python",
   "name": "python",
   "nbconvert_exporter": "python",
   "pygments_lexer": "ipython3",
   "version": "3.7.12"
  },
  "papermill": {
   "default_parameters": {},
   "duration": 10.666427,
   "end_time": "2022-06-08T10:30:36.035433",
   "environment_variables": {},
   "exception": null,
   "input_path": "__notebook__.ipynb",
   "output_path": "__notebook__.ipynb",
   "parameters": {},
   "start_time": "2022-06-08T10:30:25.369006",
   "version": "2.3.4"
  }
 },
 "nbformat": 4,
 "nbformat_minor": 5
}
